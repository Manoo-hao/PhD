{
 "cells": [
  {
   "cell_type": "code",
   "execution_count": 1,
   "metadata": {},
   "outputs": [],
   "source": [
    "BGC_type = 'nitrile_hydratase_beta'"
   ]
  },
  {
   "cell_type": "code",
   "execution_count": 2,
   "metadata": {},
   "outputs": [],
   "source": [
    "import os\n",
    "from os import listdir, mkdir\n",
    "from os.path import isfile, join\n",
    "import pandas as pd\n",
    "from pathlib import Path\n",
    "#import plotnine #currently installed in home. Should better be under project, but couldn't figure it out\n",
    "from plotnine import ggplot, aes, geom_point, geom_text, scale_x_continuous, scale_y_continuous, geom_smooth"
   ]
  },
  {
   "cell_type": "markdown",
   "metadata": {},
   "source": [
    "So far this assumes that antismash results for positive and negative base genomes exist already, otherwise include a step here that sends off a slurm job for antismash.\n",
    "\n",
    "Requires:\n",
    "- coverage tables (add script that puts them together)\n",
    "- metabgc quantify results (unique-biosynthetic-reads-abundance-table-wide.txt)"
   ]
  },
  {
   "cell_type": "code",
   "execution_count": 3,
   "metadata": {},
   "outputs": [
    {
     "name": "stdout",
     "output_type": "stream",
     "text": [
      "/media/manu/RiPP_Prioritiser/nitrile_hydratase_beta/validation_coverage_tables exists already\n",
      "/media/manu/RiPP_Prioritiser/nitrile_hydratase_beta/mbgc_quantify_results exists already\n",
      "/media/manu/RiPP_Prioritiser/nitrile_hydratase_beta/validation_results exists already\n"
     ]
    }
   ],
   "source": [
    "# Helper function for making directories only if they don't exist yet\n",
    "def makedir(dirpath):\n",
    "    if os.path.isdir(dirpath):\n",
    "        print(dirpath,'exists already')\n",
    "    else:\n",
    "        print('Making', dirpath)    \n",
    "        os.mkdir(dirpath)\n",
    "\n",
    "        \n",
    "# Defining paths for required directory structure for input and output files relative to parent directory\n",
    "parent_dir= !echo $(pwd)\n",
    "BGC_path=os.path.join(parent_dir[0], BGC_type)\n",
    "coverage_table_path=os.path.join(BGC_path, 'validation_coverage_tables')\n",
    "metabgc_quantify_path=os.path.join(BGC_path, 'mbgc_quantify_results')\n",
    "results_path=os.path.join(BGC_path, 'validation_results')\n",
    "\n",
    "\n",
    "# Calling function to make directories if they don't exist yet\n",
    "makedir(coverage_table_path)\n",
    "makedir(metabgc_quantify_path)\n",
    "makedir(results_path)"
   ]
  },
  {
   "cell_type": "code",
   "execution_count": 4,
   "metadata": {},
   "outputs": [
    {
     "name": "stdout",
     "output_type": "stream",
     "text": [
      "                    metagenome  mbgc_count\n",
      "0    3_7_0.3_nifhbSynSponge_11          22\n",
      "1    5_5_0.9_nifhbSynSponge_16          14\n",
      "2   10_0_0.3_nifhbSynSponge_30          91\n",
      "3   10_0_0.3_nifhbSynSponge_31         170\n",
      "4   10_0_0.3_nifhbSynSponge_32          98\n",
      "5   10_0_0.9_nifhbSynSponge_31          57\n",
      "6     1_9_0.3_nifhbSynSponge_3           1\n",
      "7     2_8_0.3_nifhbSynSponge_6           5\n",
      "8     2_8_0.3_nifhbSynSponge_8           2\n",
      "9    3_7_0.3_nifhbSynSponge_10           6\n",
      "10    3_7_0.3_nifhbSynSponge_9          36\n",
      "11   3_7_0.9_nifhbSynSponge_11          13\n",
      "12   4_6_0.3_nifhbSynSponge_12          43\n",
      "13   4_6_0.3_nifhbSynSponge_13          19\n",
      "14   5_5_0.3_nifhbSynSponge_15          20\n",
      "15   5_5_0.3_nifhbSynSponge_16          12\n",
      "16   5_5_0.3_nifhbSynSponge_17         175\n",
      "17   5_5_0.9_nifhbSynSponge_15          27\n",
      "18   6_4_0.3_nifhbSynSponge_18           6\n",
      "19   6_4_0.3_nifhbSynSponge_19         109\n",
      "20   7_3_0.3_nifhbSynSponge_21          33\n",
      "21   7_3_0.3_nifhbSynSponge_23         121\n",
      "22   8_2_0.3_nifhbSynSponge_24          57\n",
      "23   8_2_0.3_nifhbSynSponge_25          65\n",
      "24   8_2_0.3_nifhbSynSponge_26          49\n",
      "25   9_1_0.3_nifhbSynSponge_27          34\n",
      "26   9_1_0.3_nifhbSynSponge_28          49\n",
      "27   9_1_0.3_nifhbSynSponge_29          98\n",
      "28   9_1_0.9_nifhbSynSponge_27          91\n"
     ]
    }
   ],
   "source": [
    "# Parses mbgc quantify output tables and generates a dataframe that links each input genome \n",
    "#to the amount of unique biosynthetic reads found.\n",
    "\n",
    "os.chdir(metabgc_quantify_path)\n",
    "\n",
    "#list filenames in mbgc directory\n",
    "filenames = [f for f in listdir(metabgc_quantify_path) if isfile(join(metabgc_quantify_path, f))]\n",
    "\n",
    "# As all files the quantify result files come out of mbgc with an identical filename, it is required that the\n",
    "# filenames are changed in such a way that they are unique before copying all these files into the metabgc_quantify_path.\n",
    "# Simply append the name of the directory they are contained in to the filename, e.g.:\n",
    "# unique-biosynthetic-reads-abundance-table-wide_7375_S148.txt\n",
    "# This in turn has to match the name of the coverage table file that the synthetic metagenome is based on.\n",
    "# See the matching sample in the cell below.\n",
    "mbgc_dict = {}\n",
    "for file in filenames:\n",
    "#    key = '_'.join(file.split('_')[-2:]).strip('.txt')\n",
    "#    key = '_'.join(file.split('_')[3:5])\n",
    "    key = file.strip('_unique-biosynthetic-reads-abundance-table-wide.txt')\n",
    "    with open(file) as f:\n",
    "        read_count=0\n",
    "        for i, l in enumerate(f):\n",
    "            read_count +=1\n",
    "            pass\n",
    "    mbgc_dict[key] = read_count-1\n",
    "\n",
    "count_df = pd.DataFrame.from_dict(mbgc_dict,orient='index').reset_index()\n",
    "count_df.columns = ['metagenome', 'mbgc_count']\n",
    "print(count_df)\n",
    "\n",
    "#output\n",
    "#    metagenome  mbgc_count\n",
    "#0  7375_S39313         234\n",
    "#1   7375_S5507         185\n",
    "#2      7375_S6          67\n",
    "#3     7375_S72         217\n",
    "#4      7375_S8          41"
   ]
  },
  {
   "cell_type": "code",
   "execution_count": 13,
   "metadata": {},
   "outputs": [
    {
     "name": "stdout",
     "output_type": "stream",
     "text": [
      "                    metagenome  mbgc_count pos_genomes_count  coverage_sum  \\\n",
      "0    3_7_0.3_nifhbSynSponge_11          22                 3     12.617997   \n",
      "1    5_5_0.9_nifhbSynSponge_16          14                 5     27.532177   \n",
      "2   10_0_0.3_nifhbSynSponge_30          91                10     79.658167   \n",
      "3   10_0_0.3_nifhbSynSponge_31         170                10    313.775094   \n",
      "4   10_0_0.3_nifhbSynSponge_32          98                10     60.138172   \n",
      "5   10_0_0.9_nifhbSynSponge_31          57                10     43.053412   \n",
      "6     1_9_0.3_nifhbSynSponge_3           1                 1      0.730440   \n",
      "7     2_8_0.3_nifhbSynSponge_6           5                 2      5.341617   \n",
      "8     2_8_0.3_nifhbSynSponge_8           2                 2      4.065676   \n",
      "9    3_7_0.3_nifhbSynSponge_10           6                 3     59.462782   \n",
      "10    3_7_0.3_nifhbSynSponge_9          36                 3     20.540402   \n",
      "11   3_7_0.9_nifhbSynSponge_11          13                 3     23.243852   \n",
      "12   4_6_0.3_nifhbSynSponge_12          43                 4     29.056295   \n",
      "13   4_6_0.3_nifhbSynSponge_13          19                 4     15.163816   \n",
      "14   5_5_0.3_nifhbSynSponge_15          20                 5     35.726078   \n",
      "15   5_5_0.3_nifhbSynSponge_16          12                 5      7.841856   \n",
      "16   5_5_0.3_nifhbSynSponge_17         175                 5    477.181189   \n",
      "17   5_5_0.9_nifhbSynSponge_15          27                 5     18.825630   \n",
      "18   6_4_0.3_nifhbSynSponge_18           6                 6     14.934410   \n",
      "19   6_4_0.3_nifhbSynSponge_19         109                 6    158.486722   \n",
      "20   7_3_0.3_nifhbSynSponge_21          33                 7     32.025831   \n",
      "21   7_3_0.3_nifhbSynSponge_23         121                 7    160.315485   \n",
      "22   8_2_0.3_nifhbSynSponge_24          57                 8     77.533417   \n",
      "23   8_2_0.3_nifhbSynSponge_25          65                 8    208.012915   \n",
      "24   8_2_0.3_nifhbSynSponge_26          49                 8     52.351709   \n",
      "25   9_1_0.3_nifhbSynSponge_27          34                 9     79.528029   \n",
      "26   9_1_0.3_nifhbSynSponge_28          49                 9     87.013171   \n",
      "27   9_1_0.3_nifhbSynSponge_29          98                 9    135.618150   \n",
      "28   9_1_0.9_nifhbSynSponge_27          91                 9     62.315092   \n",
      "\n",
      "                                     pos_genome_names  \n",
      "0   [GCF_002215215.1_ASM221521v1_genomic, GCF_0028...  \n",
      "1   [GCF_001187845.1_ASM118784v1_genomic, GCF_0028...  \n",
      "2   [GCF_001187845.1_ASM118784v1_genomic, GCF_0016...  \n",
      "3   [GCF_001187845.1_ASM118784v1_genomic, GCF_0016...  \n",
      "4   [GCF_001187845.1_ASM118784v1_genomic, GCF_0016...  \n",
      "5   [GCF_001187845.1_ASM118784v1_genomic, GCF_0016...  \n",
      "6              [GCF_011405015.1_ASM1140501v1_genomic]  \n",
      "7   [GCF_002843585.1_ASM284358v1_genomic, GCF_0033...  \n",
      "8   [GCF_005311585.1_ASM531158v1_genomic, GCF_0114...  \n",
      "9   [GCF_002843585.1_ASM284358v1_genomic, GCF_0053...  \n",
      "10  [GCF_002843585.1_ASM284358v1_genomic, GCF_0053...  \n",
      "11  [GCF_002215215.1_ASM221521v1_genomic, GCF_0033...  \n",
      "12  [GCF_001678945.1_ASM167894v1_genomic, GCF_0028...  \n",
      "13  [GCF_001187845.1_ASM118784v1_genomic, GCF_0016...  \n",
      "14  [GCF_001678945.1_ASM167894v1_genomic, GCF_0022...  \n",
      "15  [GCF_001187845.1_ASM118784v1_genomic, GCF_0028...  \n",
      "16  [GCF_001678945.1_ASM167894v1_genomic, GCF_0022...  \n",
      "17  [GCF_002215215.1_ASM221521v1_genomic, GCF_0028...  \n",
      "18  [GCF_001187845.1_ASM118784v1_genomic, GCF_0022...  \n",
      "19  [GCF_001678945.1_ASM167894v1_genomic, GCF_0022...  \n",
      "20  [GCF_001187845.1_ASM118784v1_genomic, GCF_0016...  \n",
      "21  [GCF_001678945.1_ASM167894v1_genomic, GCF_0022...  \n",
      "22  [GCF_001187845.1_ASM118784v1_genomic, GCF_0016...  \n",
      "23  [GCF_001187845.1_ASM118784v1_genomic, GCF_0016...  \n",
      "24  [GCF_001187845.1_ASM118784v1_genomic, GCF_0022...  \n",
      "25  [GCF_001187845.1_ASM118784v1_genomic, GCF_0016...  \n",
      "26  [GCF_001187845.1_ASM118784v1_genomic, GCF_0016...  \n",
      "27  [GCF_001187845.1_ASM118784v1_genomic, GCF_0022...  \n",
      "28  [GCF_001187845.1_ASM118784v1_genomic, GCF_0016...  \n"
     ]
    }
   ],
   "source": [
    "os.chdir(coverage_table_path)\n",
    "\n",
    "cov_table_files = [f for f in listdir(coverage_table_path) if isfile(join(coverage_table_path, f))]\n",
    "#for count, value in enumerate(cov_table_files):\n",
    "#    print(count,value)\n",
    "\n",
    "# This requires that the coverage table filename follows a certain naming convention so that the metagenome name\n",
    "# Can be parsed out of it and a dataframe be built by mapping based on this name\n",
    "# naming: pos-genomes_neg-genomes_metagenome-name_metagenome-number.csv, e.g. 0_15_7375_S148.csv\n",
    "pos_genomes_dict = {}\n",
    "for file in cov_table_files:\n",
    "    value = file.split('_')[0]\n",
    "    pos_genomes_dict[file] = value\n",
    "\n",
    "# add pos_genomes_count_column to count_df\n",
    "count_df['pos_genomes_count'] = count_df['metagenome'].map(pos_genomes_dict)\n",
    "\n",
    "# At the moment, this parses more information out of the files than necessary for the following plot\n",
    "# This is a remnant of previouly plotting different metrics against each other before settling on this one\n",
    "# However, they might still be of interest.\n",
    "genome_names_dict = {}\n",
    "coverage_dict = {}\n",
    "for file in cov_table_files:\n",
    "    with open(file) as f:\n",
    "        line = f.readlines()\n",
    "        pos_lines = line[-10:] #Assumes 10 pos genomes\n",
    "        genome_names_list = []\n",
    "        coverage_sum = 0\n",
    "        for i in pos_lines:\n",
    "            if float(i.split(',')[-1:][0].strip('\\n')) != 0:\n",
    "                genome_names_list.append(i.split(',')[2].strip('.fna'))\n",
    "                coverage_sum += float(i.split(',')[-1:][0].strip('\\n'))\n",
    "\n",
    "            genome_names_dict[file] = genome_names_list\n",
    "            coverage_dict[file] = coverage_sum\n",
    "\n",
    "#genome names disregarded, for now assuming that each genome has only 1 cluster of interest\n",
    "count_df['coverage_sum'] = count_df['metagenome'].map(coverage_dict)\n",
    "count_df['pos_genome_names'] = count_df['metagenome'].map(genome_names_dict)\n",
    "\n",
    "#count_df.to_csv(results_path+'/count_df.tsv', sep='\\t',index=False)\n",
    "\n",
    "#print(count_df)\n"
   ]
  },
  {
   "cell_type": "code",
   "execution_count": 48,
   "metadata": {},
   "outputs": [
    {
     "name": "stderr",
     "output_type": "stream",
     "text": [
      "/home/manu/miniconda3/lib/python3.9/site-packages/plotnine/ggplot.py:719: PlotnineWarning: Saving 7 x 5 in image.\n",
      "/home/manu/miniconda3/lib/python3.9/site-packages/plotnine/ggplot.py:722: PlotnineWarning: Filename: /media/manu/RiPP_Prioritiser/nitrile_hydratase_beta/validation_results/comparison.png\n"
     ]
    }
   ],
   "source": [
    "#This produces a replica of Fig. S9 of the 2019 Sugimoto paper and saves it\n",
    "\n",
    "p=(\n",
    "     ggplot(count_df)\n",
    "     + aes(x=count_df.loc[:,'coverage_sum'], y=count_df.loc[:,'mbgc_count'], label = count_df.loc[:,'pos_genomes_count'])\n",
    "     + geom_point()\n",
    "     + geom_text(nudge_y = 10, size=8)\n",
    "     + scale_x_continuous()\n",
    "     + scale_y_continuous()\n",
    "     + geom_smooth(method='lm', inherit_aes=True, alpha=0.25, size=0.25, color='red', se=True)\n",
    ")\n",
    "\n",
    "p.save(results_path+'/comparison.png', height=5, width=7, units = 'in', dpi=300)"
   ]
  },
  {
   "cell_type": "code",
   "execution_count": 11,
   "metadata": {},
   "outputs": [
    {
     "name": "stdout",
     "output_type": "stream",
     "text": [
      "0.8572168053473801\n",
      "0.7348206513699681\n"
     ]
    }
   ],
   "source": [
    "#Calculate correlation\n",
    "#https://www.kite.com/python/answers/how-to-find-the-correlation-between-two-pandas-dataframe-columns-in-python\n",
    "#upgrade to this later to show on plot: https://stackoverflow.com/questions/61131266/add-regression-line-equation-and-r-square-to-a-plotnine\n",
    "\n",
    "col_1 = count_df['coverage_sum']\n",
    "col_2 = count_df['mbgc_count']\n",
    "correlation = col_1.corr(col_2)\n",
    "Rsq = correlation*correlation\n",
    "print(correlation)\n",
    "print(Rsq)\n"
   ]
  },
  {
   "cell_type": "code",
   "execution_count": 9,
   "metadata": {},
   "outputs": [
    {
     "data": {
      "image/png": "[encoded data removed]",
      "text/plain": [
       "<Figure size 640x480 with 1 Axes>"
      ]
     },
     "metadata": {},
     "output_type": "display_data"
    },
    {
     "data": {
      "text/plain": [
       "<ggplot: (8789582093288)>"
      ]
     },
     "execution_count": 9,
     "metadata": {},
     "output_type": "execute_result"
    }
   ],
   "source": [
    "#This shows the same plot\n",
    "\n",
    "(\n",
    "     ggplot(count_df)\n",
    "     + aes(x=count_df.loc[:,'coverage_sum'], y=count_df.loc[:,'mbgc_count'], label = count_df.loc[:,'pos_genomes_count'])\n",
    "     + geom_point()\n",
    "     + geom_text(nudge_y = 10, size=8)\n",
    "     + scale_x_continuous()\n",
    "     + scale_y_continuous()\n",
    "     + geom_smooth(method='lm', inherit_aes=True, alpha=0.25, size=0.25, color='red', se=True)\n",
    ")"
   ]
  }
 ],
 "metadata": {
  "kernelspec": {
   "display_name": "Python 3",
   "language": "python",
   "name": "python3"
  },
  "language_info": {
   "codemirror_mode": {
    "name": "ipython",
    "version": 3
   },
   "file_extension": ".py",
   "mimetype": "text/x-python",
   "name": "python",
   "nbconvert_exporter": "python",
   "pygments_lexer": "ipython3",
   "version": "3.9.2"
  }
 },
 "nbformat": 4,
 "nbformat_minor": 4
}
