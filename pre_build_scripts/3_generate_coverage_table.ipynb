{
 "cells": [
  {
   "cell_type": "markdown",
   "metadata": {},
   "source": [
    "generate coverage tables\n",
    "\n",
    "Requires a directory with genomes positive for the selected gene of interest.\n",
    "Requires a directory with genomes negative for the selected gene of interest.\n",
    "\n",
    "The function below generates coverage tables with the following arguments:\n",
    "- complexity: The proportion of negative genomes to include in the synthetic metagenome generated from it relative to the total amount of files in the neg_genomes directory. Needs to be a value between 0 and 1. Eg. for 100 files and a value of 0.1, 10 negative files will be in the synthetic metagenome.\n",
    "- pos_samples: the amount of positive samples to include in the synthetic metagenome. Needs to be a value between 0 and the amount of files in the pos_genomes directory. The for loop calling the function below will generate tables for synthetic metagenomes for all possible values of pos_samples.\n",
    "- amount tables: the amount of coverage tables to generate with the above settings. The for loop calling the function below will generate this amount PER each possible value of pos_samples\n",
    "- logn_mean and logn_std are mean and standard deviation of the normal distribution underlying the lognormal distribution that the coverages are sampled from. The defaults are the values used in sugimoto et al 2019. Both positive and negative genomes are sampled from the same distribution as described for dataset 2 in sugimoto.\n"
   ]
  },
  {
   "cell_type": "code",
   "execution_count": 1,
   "metadata": {},
   "outputs": [],
   "source": [
    "BGC_type = 'nitrile_hydratase_beta'\n",
    "metagenome_name = 'nifhbSynSponge' # do not use '_'"
   ]
  },
  {
   "cell_type": "code",
   "execution_count": 2,
   "metadata": {},
   "outputs": [],
   "source": [
    "import os\n",
    "from os import listdir, mkdir\n",
    "from os.path import isfile, join\n",
    "import pandas as pd\n",
    "import numpy as np\n",
    "from pathlib import Path\n",
    "import random\n",
    "from datetime import datetime"
   ]
  },
  {
   "cell_type": "code",
   "execution_count": 3,
   "metadata": {},
   "outputs": [
    {
     "name": "stdout",
     "output_type": "stream",
     "text": [
      "/media/manu/RiPP_Prioritiser/nitrile_hydratase_beta/validation_coverage_tables exists already\n"
     ]
    }
   ],
   "source": [
    "# Helper function for making directories only if they don't exist yet\n",
    "def makedir(dirpath):\n",
    "    if os.path.isdir(dirpath):\n",
    "        print(dirpath,'exists already')\n",
    "    else:\n",
    "        print('Making', dirpath)    \n",
    "        os.mkdir(dirpath)\n",
    "\n",
    "        \n",
    "# Defining paths for required directory structure for input and output files relative to parent directory\n",
    "#will make directories relative to the path the notebook was opened in\n",
    "parent_dir= !echo $(pwd)\n",
    "BGC_path=os.path.join(parent_dir[0], BGC_type)\n",
    "base_genomes_path=os.path.join(BGC_path, 'base_genomes')\n",
    "neg_genomes_path=os.path.join(BGC_path, 'base_genomes/neg_genomes')\n",
    "pos_genomes_path=os.path.join(BGC_path, 'base_genomes/pos_genomes')\n",
    "coverage_table_path=os.path.join(BGC_path, 'validation_coverage_tables')\n",
    "\n",
    "# made directories manually. comment out or remove after running\n",
    "#validation_pos_genomes_path=os.path.join(BGC_path, 'base_genomes/validation_pos_genomes')\n",
    "#validation_coverage_table_path=os.path.join(BGC_path, 'validation_coverage_tables')\n",
    "\n",
    "# Calling function to make directories if they don't exist yet\n",
    "makedir(coverage_table_path)"
   ]
  },
  {
   "cell_type": "code",
   "execution_count": 4,
   "metadata": {},
   "outputs": [],
   "source": [
    "with open(BGC_path+'/'+'report_3_generate_coverage_table.txt', 'w') as f:\n",
    "    f.write('Output directory is: '+BGC_path+'\\n')\n",
    "    f.write('\\nBGC_type = '+BGC_type)\n",
    "    f.write('\\nmetagenome_name = '+str(metagenome_name)+'\\n')"
   ]
  },
  {
   "cell_type": "code",
   "execution_count": 4,
   "metadata": {},
   "outputs": [
    {
     "name": "stdout",
     "output_type": "stream",
     "text": [
      "Max length of coverage tables is: 107\n"
     ]
    }
   ],
   "source": [
    "# Number depends on the selected pos and neg genomes in previous script\n",
    "# Sugimoto default is 140 neg and 10 pos genomes\n",
    "neg_filenames = [f for f in listdir(neg_genomes_path) if isfile(join(neg_genomes_path, f))]\n",
    "pos_filenames = [f for f in listdir(pos_genomes_path) if isfile(join(pos_genomes_path, f))]\n",
    "#pos_filenames = [f for f in listdir(validation_pos_genomes_path) if isfile(join(validation_pos_genomes_path, f))]\n",
    "\n",
    "all_filenames=neg_filenames+pos_filenames\n",
    "df_len = len(all_filenames)\n",
    "print('Max length of coverage tables is:', df_len)\n",
    "\n",
    "with open(BGC_path+'/'+'report_3_generate_coverage_table.txt', 'a') as f:\n",
    "    f.write('\\nLength of coverage tables is: '+str(df_len)+'\\n')\n",
    "    f.write('Consisting of: '+str(len(neg_filenames))+' negative genomes and '+str(len(pos_filenames))+' positive genomes.\\n\\n')"
   ]
  },
  {
   "cell_type": "markdown",
   "metadata": {},
   "source": [
    "The function below generates coverage tables with the following arguments:\n",
    "- complexity: The proportion of negative genomes to include in the synthetic metagenome generated from it relative to the total amount of files in the neg_genomes directory. Needs to be a value between 0 and 1. Eg. for 100 files and a value of 0.1, 10 negative files will be in the synthetic metagenome.\n",
    "- pos_samples: the amount of positive samples to include in the synthetic metagenome. Needs to be a value between 0 and the amount of files in the pos_genomes directory. Remember the remove some of the positive samples from the directory for validation (this is done automatically by the second script). **These must not be included in the training dataset!** The for loop calling the function below will generate tables for synthetic metagenomes for all possible values of pos_samples.\n",
    "- amount tables: the amount of coverage tables to generate with the above settings. The for loop calling the function below will generate this amount PER each possible value of pos_samples\n",
    "- logn_mean and logn_std are mean and standard deviation of the normal distribution underlying the lognormal distribution that the coverages are sampled from. The defaults are the values used in sugimoto et al 2019. Both positive and negative genomes are sampled from the same distribution as described for dataset 2 in sugimoto.\n"
   ]
  },
  {
   "cell_type": "markdown",
   "metadata": {},
   "source": [
    "Rewrite the cell below here according to Sugimoto:\n",
    "\n",
    "Dataset 1:\n",
    "- high complexity metagenomes contain 90% of 140 neg genomes, low complexity metagenomes contain 30% (generate 70 each)\n",
    "- Both high and low complexity metagenomes randomly contain between 0 and 3 positive genomes\n",
    "(- probability that each negative genome is selected is different, probability for each positive genome to be selected is the same.)\n",
    "- proportion of each negative genome is log-normally distributed with mean=1 and variance=4, then normalised so that sum of proportions is 1\n",
    "- Each selected positive genome can have either \"high\" (9-11) or \"low\" (1-4/3) coverage, sampled from a uniform distribution\n",
    "- If a metagenome contains 1 or 3 positive genomes, coverage of each is equally likely to be high or low\n",
    "- If a metagenome contains 2 positive genomes, coverage is high for 1 and low for the other\n",
    "\n",
    "\n",
    "Dataset 2:\n",
    "- Exactly as dataset 1 with the difference that both positive and negative genomes were sampled from a lognormal distribution."
   ]
  },
  {
   "cell_type": "code",
   "execution_count": 6,
   "metadata": {},
   "outputs": [
    {
     "name": "stdout",
     "output_type": "stream",
     "text": [
      "function loaded\n"
     ]
    }
   ],
   "source": [
    "def assemble_coverage_tables(complexity, pos_samples, amount_tables, logn_mean=1, logn_std=2):\n",
    "\n",
    "    add_samples = round(complexity*len(neg_filenames)) # round to nearest int\n",
    "    \n",
    "    for mg_number in range(0,amount_tables):\n",
    "        \n",
    "        neg_coverage_list = []\n",
    "        for i in range(0,add_samples):\n",
    "            neg_coverage_list.append(np.random.lognormal(mean=logn_mean, sigma=logn_std))\n",
    "        while len(neg_coverage_list) < len(neg_filenames):\n",
    "            neg_coverage_list.append(0)\n",
    "        randomised_neg_cov = random.sample(neg_coverage_list,len(neg_filenames))\n",
    "\n",
    "        pos_coverage_list = []\n",
    "        for i in range(0,pos_samples):\n",
    "            pos_coverage_list.append(np.random.lognormal(mean=logn_mean, sigma=logn_std))\n",
    "        while len(pos_coverage_list) < len(pos_filenames):\n",
    "            pos_coverage_list.append(0)\n",
    "        randomised_pos_cov = random.sample(pos_coverage_list,len(pos_filenames))    \n",
    "\n",
    "        neg_df_dict = {'metagenome_name':[],'complexity':[],'base_genome_filename':[],'coverage':[]}\n",
    "        for i in range(0,len(neg_filenames)):\n",
    "            neg_df_dict['metagenome_name'].append(metagenome_name+'_'+str(mg_number))\n",
    "            neg_df_dict['complexity'].append(complexity)\n",
    "            neg_df_dict['base_genome_filename'].append(neg_filenames[i])\n",
    "            neg_df_dict['coverage'].append(randomised_neg_cov[i])\n",
    "        neg_cov_df = pd.DataFrame(neg_df_dict)\n",
    "\n",
    "        pos_df_dict = {'metagenome_name':[],'complexity':[],'base_genome_filename':[],'coverage':[]}\n",
    "        for i in range(0,len(pos_filenames)):\n",
    "            pos_df_dict['metagenome_name'].append(metagenome_name+'_'+str(mg_number))\n",
    "            pos_df_dict['complexity'].append(complexity)\n",
    "            pos_df_dict['base_genome_filename'].append(pos_filenames[i])\n",
    "            pos_df_dict['coverage'].append(randomised_pos_cov[i])\n",
    "        pos_cov_df = pd.DataFrame(pos_df_dict)\n",
    "        \n",
    "        with open(BGC_path+'/'+'report_3_generate_coverage_table.txt', 'a') as f:\n",
    "            f.write(datetime.now(tz=None).strftime('%d/%m/%y, %H:%M:%S')+'\\tGenerating coverage table with '+str(add_samples)+' negative genome(s) and '+str(pos_samples)+' positive genome(s).\\n')\n",
    "        \n",
    "        # See plot_mg_correlation notebook to match naming convention! (e.g 0_15_7375_S148.csv)\n",
    "        # Naming must include complexity! Update naming in plot_mg_correlation notebook!\n",
    "        result = pd.concat([neg_cov_df, pos_cov_df])\n",
    "        result.to_csv(coverage_table_path+'/'+str(pos_samples)+'_'+str(len(pos_filenames)-pos_samples)+'_'+str(complexity)+'_'+metagenome_name+'_'+str(mg_number), sep=',', index=False, header=False)\n",
    "        #result.to_csv(validation_coverage_table_path+'/'+str(pos_samples)+'_'+str(len(pos_filenames)-pos_samples)+'_'+str(complexity)+'_'+metagenome_name+'_'+str(mg_number), sep=',', index=False, header=False)\n",
    "\n",
    "print('function loaded')"
   ]
  },
  {
   "cell_type": "code",
   "execution_count": 7,
   "metadata": {},
   "outputs": [],
   "source": [
    "pct_sampled = 0.3 #proxy of metagenome complexity, corresponding to amount of neg samples to include\n",
    "amount_pos_samples = 1 #specify this manually to create files with a certain amount of pos samples\n",
    "amount_cov_tables = 1\n",
    "\n",
    "# Create individual coverage tables with pre-set parameters\n",
    "#print('calling assemble_coverage_tables function with: complexity =', pct_sampled, 'pos_samples =', amount_pos_samples, 'amount_tables =', amount_cov_tables)\n",
    "#assemble_coverage_tables(complexity=pct_sampled, pos_samples=amount_pos_samples, amount_tables=amount_cov_tables)"
   ]
  },
  {
   "cell_type": "code",
   "execution_count": 8,
   "metadata": {},
   "outputs": [
    {
     "name": "stdout",
     "output_type": "stream",
     "text": [
      "calling assemble_coverage_tables function with: complexity = 0.9 pos_samples = 0 amount_tables = 3\n",
      "calling assemble_coverage_tables function with: complexity = 0.9 pos_samples = 1 amount_tables = 3\n",
      "calling assemble_coverage_tables function with: complexity = 0.9 pos_samples = 2 amount_tables = 3\n",
      "calling assemble_coverage_tables function with: complexity = 0.9 pos_samples = 3 amount_tables = 3\n",
      "calling assemble_coverage_tables function with: complexity = 0.9 pos_samples = 4 amount_tables = 3\n",
      "calling assemble_coverage_tables function with: complexity = 0.9 pos_samples = 5 amount_tables = 3\n",
      "calling assemble_coverage_tables function with: complexity = 0.9 pos_samples = 6 amount_tables = 3\n",
      "calling assemble_coverage_tables function with: complexity = 0.9 pos_samples = 7 amount_tables = 3\n",
      "calling assemble_coverage_tables function with: complexity = 0.9 pos_samples = 8 amount_tables = 3\n",
      "calling assemble_coverage_tables function with: complexity = 0.9 pos_samples = 9 amount_tables = 3\n",
      "calling assemble_coverage_tables function with: complexity = 0.9 pos_samples = 10 amount_tables = 3\n"
     ]
    }
   ],
   "source": [
    "# Good for validation with different amounts of spiked in positive genomes and varying background complexity\n",
    "\n",
    "pct_sampled = 0.9 #proxy of metagenome complexity, corresponding to amount of neg samples to include\n",
    "amount_cov_tables = 3\n",
    "\n",
    "# generate a selection of coverage tables with all possible amounts of positve samples\n",
    "#for i in range(0,len(pos_filenames)+1):\n",
    "#    print('calling assemble_coverage_tables function with: complexity =', pct_sampled, 'pos_samples =', i, 'amount_tables =', amount_cov_tables)\n",
    "#    assemble_coverage_tables(complexity=pct_sampled, pos_samples=i, amount_tables=amount_cov_tables)"
   ]
  },
  {
   "cell_type": "code",
   "execution_count": 7,
   "metadata": {},
   "outputs": [
    {
     "name": "stdout",
     "output_type": "stream",
     "text": [
      "calling assemble_coverage_tables function with: complexity = 0.3 pos_samples = 0 amount_tables = 14\n",
      "calling assemble_coverage_tables function with: complexity = 0.9 pos_samples = 0 amount_tables = 14\n",
      "calling assemble_coverage_tables function with: complexity = 0.3 pos_samples = 1 amount_tables = 14\n",
      "calling assemble_coverage_tables function with: complexity = 0.9 pos_samples = 1 amount_tables = 14\n",
      "calling assemble_coverage_tables function with: complexity = 0.3 pos_samples = 2 amount_tables = 14\n",
      "calling assemble_coverage_tables function with: complexity = 0.9 pos_samples = 2 amount_tables = 14\n",
      "calling assemble_coverage_tables function with: complexity = 0.3 pos_samples = 3 amount_tables = 14\n",
      "calling assemble_coverage_tables function with: complexity = 0.9 pos_samples = 3 amount_tables = 14\n",
      "calling assemble_coverage_tables function with: complexity = 0.3 pos_samples = 4 amount_tables = 14\n",
      "calling assemble_coverage_tables function with: complexity = 0.9 pos_samples = 4 amount_tables = 14\n"
     ]
    }
   ],
   "source": [
    "#Mimicking Sugimoto 2019 datasets\n",
    "\n",
    "amount_cov_tables = 14\n",
    "\n",
    "#Generate 70 high complexity, 70 low complexity metagenomes, of each, generate 14 with 0, 1, 2, 3, 4 pos samples \n",
    "for i in range(0,5):\n",
    "    print('calling assemble_coverage_tables function with: complexity =', 0.3, 'pos_samples =', i, 'amount_tables =', amount_cov_tables)\n",
    "    assemble_coverage_tables(complexity=0.3, pos_samples=i, amount_tables=amount_cov_tables)\n",
    "    print('calling assemble_coverage_tables function with: complexity =', 0.9, 'pos_samples =', i, 'amount_tables =', amount_cov_tables)\n",
    "    assemble_coverage_tables(complexity=0.9, pos_samples=i, amount_tables=amount_cov_tables)"
   ]
  }
 ],
 "metadata": {
  "kernelspec": {
   "display_name": "Python 3",
   "language": "python",
   "name": "python3"
  },
  "language_info": {
   "codemirror_mode": {
    "name": "ipython",
    "version": 3
   },
   "file_extension": ".py",
   "mimetype": "text/x-python",
   "name": "python",
   "nbconvert_exporter": "python",
   "pygments_lexer": "ipython3",
   "version": "3.9.2"
  }
 },
 "nbformat": 4,
 "nbformat_minor": 4
}
