{
 "cells": [
  {
   "cell_type": "markdown",
   "metadata": {},
   "source": [
    "generate coverage tables\n",
    "\n",
    "Requires a directory with genomes positive for the selected gene of interest\n",
    "Requires a directory with genomes negative for the selected gene of interest\n",
    "\n",
    "The function below generates coverage tables with the following arguments:\n",
    "- complexity: The proportion of negative genomes to include in the synthetic metagenome generated from it relative to the total amount of files in the neg_genomes directory. Needs to be a value between 0 and 1. Eg. for 100 files and a value of 0.1, 10 negative files will be in the synthetic metagenome.\n",
    "- pos_samples: the amount of positive samples to include in the synthetic metagenome. Needs to be a value between 0 and the amount of files in the pos_genomes directory. The for loop calling the function below will generate tables for synthetic metagenomes for all possible values of pos_samples.\n",
    "- amount tables: the amount of coverage tables to generate with the above settings. The for loop calling the function below will generate this amount PER each possible value of pos_samples\n",
    "- logn_mean and logn_std are mean and standard deviation of the normal distribution underlying the lognormal distribution that the coverages are sampled from. The defaults are the values used in sugimoto et al 2019. Both positive and negative genomes are sampled from the same distribution as described for dataset 2 in sugimoto.\n"
   ]
  },
  {
   "cell_type": "code",
   "execution_count": 7,
   "metadata": {},
   "outputs": [],
   "source": [
    "BGC_type = 'Rieske'\n",
    "metagenome_name = 'SynSponge' # do not use '_'\n",
    "pct_sampled = 0.75 #proxy of metagenome complexity, corresponding to amount of neg samples to include\n",
    "amount_pos_samples = 1 #specify this manually to create files with a certain amount of pos samples\n",
    "amount_cov_tables = 1"
   ]
  },
  {
   "cell_type": "code",
   "execution_count": 2,
   "metadata": {},
   "outputs": [],
   "source": [
    "import os\n",
    "from os import listdir, mkdir\n",
    "from os.path import isfile, join\n",
    "import pandas as pd\n",
    "import numpy as np\n",
    "from pathlib import Path\n",
    "#import plotnine #currently installed in home. Should better be under project, but couldn't figure it out\n",
    "import random"
   ]
  },
  {
   "cell_type": "code",
   "execution_count": 3,
   "metadata": {},
   "outputs": [
    {
     "name": "stdout",
     "output_type": "stream",
     "text": [
      "Making /nesi/project/vuw03285/Rieske/coverage_tables\n"
     ]
    }
   ],
   "source": [
    "# Helper function for making directories only if they don't exist yet\n",
    "def makedir(dirpath):\n",
    "    if os.path.isdir(dirpath):\n",
    "        print(dirpath,'exists already')\n",
    "    else:\n",
    "        print('Making', dirpath)    \n",
    "        os.mkdir(dirpath)\n",
    "\n",
    "        \n",
    "# Defining paths for required directory structure for input and output files relative to parent directory\n",
    "parent_dir='/nesi/project/vuw03285/'\n",
    "BGC_path=os.path.join(parent_dir, BGC_type)\n",
    "base_genomes_path=os.path.join(BGC_path, 'base_genomes')\n",
    "neg_genomes_path=os.path.join(BGC_path, 'base_genomes/neg_genomes')\n",
    "pos_genomes_path=os.path.join(BGC_path, 'base_genomes/pos_genomes')\n",
    "coverage_table_path=os.path.join(BGC_path, 'coverage_tables')\n",
    "\n",
    "\n",
    "# Calling function to make directories if they don't exist yet\n",
    "makedir(coverage_table_path)"
   ]
  },
  {
   "cell_type": "code",
   "execution_count": null,
   "metadata": {},
   "outputs": [],
   "source": [
    "%%capture cap --no-stderr\n",
    "# Generating a report file for this particular script\n",
    "print('\\nBGC_type =', BGC_type)\n",
    "print('\\nmetagenome_name =', metagenome_name)\n",
    "print('\\npct_sampled =', pct_sampled)\n",
    "print('\\namount_pos_samples =', amount_pos_samples)\n",
    "print('\\namount_cov_tables =', amount_cov_tables)\n",
    "with open(BGC_path+'/'+'report_generate_coverage_table.txt', 'w') as f:\n",
    "    f.write(str(cap))"
   ]
  },
  {
   "cell_type": "code",
   "execution_count": 4,
   "metadata": {},
   "outputs": [
    {
     "name": "stdout",
     "output_type": "stream",
     "text": [
      "length of coverage tables is: 13\n"
     ]
    }
   ],
   "source": [
    "# Number depends on the selected pos and neg genomes in previous script\n",
    "# Sugimoto default is 140 neg and 10 pos genomes\n",
    "neg_filenames = [f for f in listdir(neg_genomes_path) if isfile(join(neg_genomes_path, f))]\n",
    "pos_filenames = [f for f in listdir(pos_genomes_path) if isfile(join(pos_genomes_path, f))]\n",
    "\n",
    "all_filenames=neg_filenames+pos_filenames\n",
    "df_len = len(all_filenames)\n",
    "print('length of coverage tables is:', df_len)\n",
    "\n",
    "#Randomly select 140 from neg_filenames, move them to a different directory\n",
    "#Randomly select 10 from pos_filenames, move them to a different directory\n",
    "# Keep in mind that there are duplicate proteins in the positive"
   ]
  },
  {
   "cell_type": "markdown",
   "metadata": {},
   "source": [
    "The function below generates coverage tables with the following arguments:\n",
    "- complexity: The proportion of negative genomes to include in the synthetic metagenome generated from it relative to the total amount of files in the neg_genomes directory. Needs to be a value between 0 and 1. Eg. for 100 files and a value of 0.1, 10 negative files will be in the synthetic metagenome.\n",
    "- pos_samples: the amount of positive samples to include in the synthetic metagenome. Needs to be a value between 0 and the amount of files in the pos_genomes directory. Remember the remove some of the positive samples from the directory for validation (this is done automatically by the second script). **These must not be included in the training dataset!** The for loop calling the function below will generate tables for synthetic metagenomes for all possible values of pos_samples.\n",
    "- amount tables: the amount of coverage tables to generate with the above settings. The for loop calling the function below will generate this amount PER each possible value of pos_samples\n",
    "- logn_mean and logn_std are mean and standard deviation of the normal distribution underlying the lognormal distribution that the coverages are sampled from. The defaults are the values used in sugimoto et al 2019. Both positive and negative genomes are sampled from the same distribution as described for dataset 2 in sugimoto.\n"
   ]
  },
  {
   "cell_type": "code",
   "execution_count": 6,
   "metadata": {},
   "outputs": [
    {
     "name": "stdout",
     "output_type": "stream",
     "text": [
      "function loaded\n"
     ]
    }
   ],
   "source": [
    "def assemble_coverage_tables(complexity, pos_samples, amount_tables, logn_mean=1, logn_std=2):\n",
    "\n",
    "    add_samples = round(complexity*len(neg_filenames)) # round to nearest int\n",
    "    \n",
    "    for mg_number in range(0,amount_tables):\n",
    "        \n",
    "        neg_coverage_list = []\n",
    "        for i in range(0,add_samples):\n",
    "            neg_coverage_list.append(np.random.lognormal(mean=logn_mean, sigma=logn_std))\n",
    "        while len(neg_coverage_list) < len(neg_filenames):\n",
    "            neg_coverage_list.append(0)\n",
    "        randomised_neg_cov = random.sample(neg_coverage_list,len(neg_filenames))\n",
    "\n",
    "        pos_coverage_list = []\n",
    "        for i in range(0,pos_samples):\n",
    "            pos_coverage_list.append(np.random.lognormal(mean=logn_mean, sigma=logn_std))\n",
    "        while len(pos_coverage_list) < len(pos_filenames):\n",
    "            pos_coverage_list.append(0)\n",
    "        randomised_pos_cov = random.sample(pos_coverage_list,len(pos_filenames))    \n",
    "\n",
    "        neg_df_dict = {'metagenome_name':[],'complexity':[],'base_genome_filename':[],'coverage':[]}\n",
    "        for i in range(0,len(neg_filenames)):\n",
    "            neg_df_dict['metagenome_name'].append(metagenome_name+'_'+str(mg_number))\n",
    "            neg_df_dict['complexity'].append(complexity)\n",
    "            neg_df_dict['base_genome_filename'].append(neg_filenames[i])\n",
    "            neg_df_dict['coverage'].append(randomised_neg_cov[i])\n",
    "        neg_cov_df = pd.DataFrame(neg_df_dict)\n",
    "\n",
    "        pos_df_dict = {'metagenome_name':[],'complexity':[],'base_genome_filename':[],'coverage':[]}\n",
    "        for i in range(0,len(pos_filenames)):\n",
    "            pos_df_dict['metagenome_name'].append(metagenome_name+'_'+str(mg_number))\n",
    "            pos_df_dict['complexity'].append(complexity)\n",
    "            pos_df_dict['base_genome_filename'].append(pos_filenames[i])\n",
    "            pos_df_dict['coverage'].append(randomised_pos_cov[i])\n",
    "        pos_cov_df = pd.DataFrame(pos_df_dict)\n",
    "\n",
    "        # See plot_mg_correlation notebook to match naming convention! (e.g 0_15_7375_S148.csv)\n",
    "        result = pd.concat([neg_cov_df, pos_cov_df])\n",
    "        result.to_csv(coverage_table_path+'/'+str(pos_samples)+'_'+str(len(pos_filenames)-pos_samples)+'_'+metagenome_name+'_'+str(mg_number)+'.csv', sep=',', index=False)\n",
    "\n",
    "        \n",
    "#assemble_coverage_tables(pct_sampled, 3, amount_cov_tables)\n",
    "print('function loaded')\n"
   ]
  },
  {
   "cell_type": "code",
   "execution_count": 9,
   "metadata": {},
   "outputs": [
    {
     "name": "stdout",
     "output_type": "stream",
     "text": [
      "calling assemble_coverage_tables function with: complexity = 0.75 pos_samples = 1 amount_tables = 1\n"
     ]
    }
   ],
   "source": [
    "# Create individual coverage tables with pre-defined parameters\n",
    "print('calling assemble_coverage_tables function with: complexity =', pct_sampled, 'pos_samples =', amount_pos_samples, 'amount_tables =', amount_cov_tables)\n",
    "assemble_coverage_tables(complexity=pct_sampled, pos_samples=amount_pos_samples, amount_tables=amount_cov_tables)"
   ]
  },
  {
   "cell_type": "code",
   "execution_count": 10,
   "metadata": {},
   "outputs": [
    {
     "name": "stdout",
     "output_type": "stream",
     "text": [
      "calling assemble_coverage_tables function with: complexity = 0.75 pos_samples = 0 amount_tables = 1\n",
      "calling assemble_coverage_tables function with: complexity = 0.75 pos_samples = 1 amount_tables = 1\n",
      "calling assemble_coverage_tables function with: complexity = 0.75 pos_samples = 2 amount_tables = 1\n",
      "calling assemble_coverage_tables function with: complexity = 0.75 pos_samples = 3 amount_tables = 1\n"
     ]
    }
   ],
   "source": [
    "# generate a selection of coverage tables with all possible amounts of positve samples\n",
    "for i in range(0,len(pos_filenames)+1):\n",
    "    print('calling assemble_coverage_tables function with: complexity =', pct_sampled, 'pos_samples =', i, 'amount_tables =', amount_cov_tables)\n",
    "    assemble_coverage_tables(complexity=pct_sampled, pos_samples=i, amount_tables=amount_cov_tables)"
   ]
  }
 ],
 "metadata": {
  "kernelspec": {
   "display_name": "Python 3.8.2 (gimkl-2020a)",
   "language": "python",
   "name": "python382-gimkl-2020a"
  },
  "language_info": {
   "codemirror_mode": {
    "name": "ipython",
    "version": 3
   },
   "file_extension": ".py",
   "mimetype": "text/x-python",
   "name": "python",
   "nbconvert_exporter": "python",
   "pygments_lexer": "ipython3",
   "version": "3.8.2"
  }
 },
 "nbformat": 4,
 "nbformat_minor": 4
}
