{
 "cells": [
  {
   "cell_type": "code",
   "execution_count": 1,
   "metadata": {},
   "outputs": [],
   "source": [
    "BGC_type = 'T2PKS'"
   ]
  },
  {
   "cell_type": "code",
   "execution_count": 2,
   "metadata": {},
   "outputs": [],
   "source": [
    "import os\n",
    "from os import listdir, mkdir\n",
    "from os.path import isfile, join\n",
    "import pandas as pd\n",
    "from pathlib import Path\n",
    "#import plotnine #currently installed in home. Should better be under project, but couldn't figure it out\n",
    "from plotnine import ggplot, aes, geom_point, geom_text, scale_x_continuous, scale_y_continuous, geom_smooth"
   ]
  },
  {
   "cell_type": "markdown",
   "metadata": {},
   "source": [
    "So far this assumes that antismash results for positive and negative base genomes exist already, otherwise include a step here that sends off a slurm job for antismash.\n",
    "\n",
    "Requires:\n",
    "- coverage tables (add script that puts them together)\n",
    "- metabgc quantify results (unique-biosynthetic-reads-abundance-table-wide.txt)"
   ]
  },
  {
   "cell_type": "code",
   "execution_count": 3,
   "metadata": {},
   "outputs": [
    {
     "name": "stdout",
     "output_type": "stream",
     "text": [
      "/nesi/project/vuw03285/T2PKS exists already\n",
      "/nesi/project/vuw03285/T2PKS/coverage_tables exists already\n",
      "/nesi/project/vuw03285/T2PKS/mbgc_quantify_results exists already\n",
      "/nesi/project/vuw03285/T2PKS/results exists already\n"
     ]
    }
   ],
   "source": [
    "# Helper function for making directories only if they don't exist yet\n",
    "def makedir(dirpath):\n",
    "    if os.path.isdir(dirpath):\n",
    "        print(dirpath,'exists already')\n",
    "    else:\n",
    "        print('Making', dirpath)    \n",
    "        os.mkdir(dirpath)\n",
    "\n",
    "        \n",
    "# Defining paths for required directory structure for input and output files relative to parent directory\n",
    "parent_dir='/nesi/project/vuw03285/'+BGC_type\n",
    "coverage_table_path=os.path.join(parent_dir, 'coverage_tables')\n",
    "metabgc_quantify_path=os.path.join(parent_dir, 'mbgc_quantify_results')\n",
    "results_path=os.path.join(parent_dir, 'results')\n",
    "\n",
    "\n",
    "# Calling function to make directories if they don't exist yet\n",
    "makedir(parent_dir)\n",
    "makedir(coverage_table_path)\n",
    "makedir(metabgc_quantify_path)\n",
    "makedir(results_path)"
   ]
  },
  {
   "cell_type": "code",
   "execution_count": 4,
   "metadata": {},
   "outputs": [
    {
     "name": "stdout",
     "output_type": "stream",
     "text": [
      "    metagenome  mbgc_count\n",
      "0  7375_S39313         234\n",
      "1   7375_S5507         185\n",
      "2      7375_S6          67\n",
      "3     7375_S72         217\n",
      "4      7375_S8          41\n"
     ]
    }
   ],
   "source": [
    "# Parses mbgc quantify output tables and generates a dataframe that links each input genome \n",
    "#to the amount of unique biosynthetic reads found.\n",
    "\n",
    "os.chdir(metabgc_quantify_path)\n",
    "\n",
    "#list filenames in mbgc directory\n",
    "filenames = [f for f in listdir(metabgc_quantify_path) if isfile(join(metabgc_quantify_path, f))]\n",
    "\n",
    "\n",
    "# As all files the quantify result files come out of mbgc with an identical filename, it is required that the\n",
    "# filenames are changed in such a way that they are unique before copying all these files into the metabgc_quantify_path.\n",
    "# Simply append the name of the directory they are contained in to the filename, e.g.:\n",
    "# unique-biosynthetic-reads-abundance-table-wide_7375_S148.txt\n",
    "# This in turn has to match the name of the coverage table file that the synthetic metagenome is based on.\n",
    "# See the matching sample in the cell below.\n",
    "mbgc_dict = {}\n",
    "for file in filenames:\n",
    "    key = '_'.join(file.split('_')[-2:]).strip('.txt')\n",
    "    with open(file) as f:\n",
    "        read_count=0\n",
    "        for i, l in enumerate(f):\n",
    "            read_count +=1\n",
    "            pass\n",
    "    mbgc_dict[key] = read_count-1\n",
    "\n",
    "count_df = pd.DataFrame.from_dict(mbgc_dict,orient='index').reset_index()\n",
    "count_df.columns = ['metagenome', 'mbgc_count']\n",
    "print(count_df.head())"
   ]
  },
  {
   "cell_type": "code",
   "execution_count": 5,
   "metadata": {},
   "outputs": [
    {
     "name": "stdout",
     "output_type": "stream",
     "text": [
      "     metagenome  mbgc_count pos_genomes_count  coverage_sum  \\\n",
      "0   7375_S39313         234                 9     69.193904   \n",
      "1    7375_S5507         185                 8     34.175461   \n",
      "2       7375_S6          67                 5     13.193951   \n",
      "3      7375_S72         217                 6     59.413199   \n",
      "4       7375_S8          41                 3      7.094211   \n",
      "5       7375_S3          41                 2      5.427617   \n",
      "6       7375_S1          14                 0      0.000000   \n",
      "7     7375_S228           2                 0      0.000000   \n",
      "8      7375_S13          17                 1      3.947681   \n",
      "9      7375_S20          32                 2      5.321996   \n",
      "10      7375_S4         108                 6     20.944076   \n",
      "11  7375_S93953         133                 9     22.468825   \n",
      "12  7375_S10977         145                 9     31.118832   \n",
      "13     7375_S10          71                 5     14.764804   \n",
      "14      7375_S2          64                 2     12.280783   \n",
      "15      7375_S5         302                 4     51.456979   \n",
      "16     7375_S16          31                 1      4.046902   \n",
      "17   7375_S7067         228                 8     62.937114   \n",
      "18    7375_S193         206                 7     60.066599   \n",
      "19     7375_S75         191                 6     58.019225   \n",
      "20    7375_S148           0                 0      0.000000   \n",
      "21     7375_S11         127                 4     17.061088   \n",
      "22   7375_S1082         306                 7     53.419582   \n",
      "23      7375_S9          54                 3     11.737706   \n",
      "24     7375_S12          41                 3      7.848744   \n",
      "25     7375_S22         180                 5     53.462595   \n",
      "26      7375_S0          84                 4     16.191644   \n",
      "27      7375_S7          96                 1     37.362396   \n",
      "28     7375_S84         124                 7     23.453009   \n",
      "29   7375_S7023         133                 8     25.159893   \n",
      "\n",
      "                                     pos_genome_names  \n",
      "0   [GCF_011801145.1_ASM1180114v1_genomic, GCF_000...  \n",
      "1   [GCF_000424785.1_ASM42478v1_genomic, GCF_00082...  \n",
      "2   [GCF_008705135.1_ASM870513v1_genomic, GCF_9001...  \n",
      "3   [GCF_001514265.1_ASM151426v1_genomic, GCF_0087...  \n",
      "4   [GCF_008704715.1_ASM870471v1_genomic, GCF_0015...  \n",
      "5   [GCF_008705135.1_ASM870513v1_genomic, GCF_9001...  \n",
      "6                                                  []  \n",
      "7                                                  []  \n",
      "8               [GCF_008704715.1_ASM870471v1_genomic]  \n",
      "9   [GCF_008704715.1_ASM870471v1_genomic, GCF_0118...  \n",
      "10  [GCF_000424785.1_ASM42478v1_genomic, GCF_00151...  \n",
      "11  [GCF_900103585.1_IMG-taxon_2615840541_annotate...  \n",
      "12  [GCF_001514265.1_ASM151426v1_genomic, GCF_9000...  \n",
      "13  [GCF_008705135.1_ASM870513v1_genomic, GCF_0004...  \n",
      "14  [GCF_900103585.1_IMG-taxon_2615840541_annotate...  \n",
      "15  [GCF_008704715.1_ASM870471v1_genomic, GCF_0015...  \n",
      "16  [GCF_900103585.1_IMG-taxon_2615840541_annotate...  \n",
      "17  [GCF_008704475.1_ASM870447v1_genomic, GCF_0004...  \n",
      "18  [GCF_000514935.1_ASM51493v1_genomic, GCF_00042...  \n",
      "19  [GCF_000514935.1_ASM51493v1_genomic, GCF_01180...  \n",
      "20                                                 []  \n",
      "21  [GCF_000514935.1_ASM51493v1_genomic, GCF_90010...  \n",
      "22  [GCF_008704475.1_ASM870447v1_genomic, GCF_0005...  \n",
      "23  [GCF_000829695.1_ASM82969v1_genomic, GCF_00870...  \n",
      "24  [GCF_008704715.1_ASM870471v1_genomic, GCF_0005...  \n",
      "25  [GCF_000514935.1_ASM51493v1_genomic, GCF_90009...  \n",
      "26  [GCF_008704475.1_ASM870447v1_genomic, GCF_0087...  \n",
      "27              [GCF_008704475.1_ASM870447v1_genomic]  \n",
      "28  [GCF_000514935.1_ASM51493v1_genomic, GCF_01180...  \n",
      "29  [GCF_900091525.1_IMG-taxon_2622736591_annotate...  \n"
     ]
    }
   ],
   "source": [
    "os.chdir(coverage_table_path)\n",
    "\n",
    "cov_table_files = [f for f in listdir(coverage_table_path) if isfile(join(coverage_table_path, f))]\n",
    "#for count, value in enumerate(cov_table_files):\n",
    "#    print(count,value)\n",
    "\n",
    "# This requires that the coverage table filename follows a certain naming convention so that the metagenome name\n",
    "# Can be parsed out of it and a dataframe be built by mapping based on this name\n",
    "# naming: pos-genomes_neg-genomes_metagenome-name_metagenome-number.csv, e.g. 0_15_7375_S148.csv\n",
    "pos_genomes_dict = {}\n",
    "for file in cov_table_files:\n",
    "    key = '_'.join(file.split('_')[-2:]).strip('.csv')\n",
    "    value = file.split('_')[0]\n",
    "    pos_genomes_dict[key] = value\n",
    "    \n",
    "count_df['pos_genomes_count'] = count_df['metagenome'].map(pos_genomes_dict)\n",
    "\n",
    "# At the moment, this parses more information out of the files than necessary for the following plot\n",
    "# This is a remnant of previouly plotting different metrics against each other before settling on this one\n",
    "# However, they might still be of interest.\n",
    "genome_names_dict = {}\n",
    "coverage_dict = {}\n",
    "for file in cov_table_files:\n",
    "    key = '_'.join(file.split('_')[-2:]).strip('.csv')\n",
    "    with open(file) as f:\n",
    "        line = f.readlines()\n",
    "        genome_names_list = []\n",
    "        coverage_sum = 0\n",
    "        for i in line:\n",
    "            # This currently assumes that positive genomes start with GCF_ (neg with GCA_) which is not ideal\n",
    "            # This needs to be pre-defined in some way.\n",
    "            if i.split(',')[2].startswith('GCF_') and float(i.split(',')[-1:][0].strip('\\n')) != 0:\n",
    "                genome_names_list.append(i.split(',')[2].strip('.fasta'))\n",
    "                coverage_sum += float(i.split(',')[-1:][0].strip('\\n'))\n",
    "                \n",
    "            genome_names_dict[key] = genome_names_list\n",
    "            coverage_dict[key] = coverage_sum\n",
    "\n",
    "\n",
    "#genome names disregarded, for now assuming that each genome has only 1 cluster of interest\n",
    "count_df['coverage_sum'] = count_df['metagenome'].map(coverage_dict)\n",
    "count_df['pos_genome_names'] = count_df['metagenome'].map(genome_names_dict)\n",
    "\n",
    "count_df.to_csv(results_path+'/count_df.tsv', sep='\\t',index=False)\n",
    "\n",
    "print(count_df)"
   ]
  },
  {
   "cell_type": "code",
   "execution_count": 6,
   "metadata": {},
   "outputs": [
    {
     "name": "stderr",
     "output_type": "stream",
     "text": [
      "/home/blankma/.local/lib/python3.8/site-packages/plotnine/ggplot.py:719: PlotnineWarning: Saving 7 x 5 in image.\n",
      "/home/blankma/.local/lib/python3.8/site-packages/plotnine/ggplot.py:722: PlotnineWarning: Filename: /nesi/project/vuw03285/T2PKS/results/comparison.png\n"
     ]
    }
   ],
   "source": [
    "#This produces a replica of Fig. S9 of the 2019 Sugimoto paper and saves it\n",
    "\n",
    "p=(\n",
    "     ggplot(count_df)\n",
    "     + aes(x=count_df.loc[:,'coverage_sum'], y=count_df.loc[:,'mbgc_count'], label = count_df.loc[:,'pos_genomes_count'])\n",
    "     + geom_point()\n",
    "     + geom_text(nudge_y = 10, size=8)\n",
    "     + scale_x_continuous()\n",
    "     + scale_y_continuous()\n",
    "     + geom_smooth(method='lm', inherit_aes=True, alpha=0.25, size=0.25, color='red', se=True)\n",
    ")\n",
    "\n",
    "p.save(results_path+'/comparison.png', height=5, width=7, units = 'in', dpi=300)"
   ]
  },
  {
   "cell_type": "code",
   "execution_count": 7,
   "metadata": {},
   "outputs": [
    {
     "data": {
      "image/png": "[encoded data removed]",
      "text/plain": [
       "<Figure size 640x480 with 1 Axes>"
      ]
     },
     "metadata": {},
     "output_type": "display_data"
    },
    {
     "data": {
      "text/plain": [
       "<ggplot: (2932120023028)>"
      ]
     },
     "execution_count": 7,
     "metadata": {},
     "output_type": "execute_result"
    }
   ],
   "source": [
    "#This shows the same plot\n",
    "\n",
    "(\n",
    "     ggplot(count_df)\n",
    "     + aes(x=count_df.loc[:,'coverage_sum'], y=count_df.loc[:,'mbgc_count'], label = count_df.loc[:,'pos_genomes_count'])\n",
    "     + geom_point()\n",
    "     + geom_text(nudge_y = 10, size=8)\n",
    "     + scale_x_continuous()\n",
    "     + scale_y_continuous()\n",
    "     + geom_smooth(method='lm', inherit_aes=True, alpha=0.25, size=0.25, color='red', se=True)\n",
    ")"
   ]
  }
 ],
 "metadata": {
  "kernelspec": {
   "display_name": "Python 3.8.2 (gimkl-2020a)",
   "language": "python",
   "name": "python382-gimkl-2020a"
  },
  "language_info": {
   "codemirror_mode": {
    "name": "ipython",
    "version": 3
   },
   "file_extension": ".py",
   "mimetype": "text/x-python",
   "name": "python",
   "nbconvert_exporter": "python",
   "pygments_lexer": "ipython3",
   "version": "3.8.2"
  }
 },
 "nbformat": 4,
 "nbformat_minor": 4
}
